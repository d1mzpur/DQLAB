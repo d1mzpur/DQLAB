{
 "cells": [
  {
   "cell_type": "markdown",
   "source": [
    "CSV atau comma separated value adalah salah satu tipe file yang digunakan secara luas di dunia programming. Tidak hanya itu CSV pun sering digunakan dalam pengolahan informasi yang dihasilkan spreadsheet untuk diproses lebih lanjut melalui mesin analitik. CSV pun dianggap sebagai file yang agnostik karena dapat digunakan oleh berbagai database untuk proses backup data. CSV dianggap sebagai salah satu tipe data yang sering dipakai untuk mengelola data pada proses lanjutan."
   ],
   "metadata": {}
  },
  {
   "cell_type": "markdown",
   "source": [
    "Membaca Teks File (CSV)\r\n",
    "Sekarang kita akan mencoba membaca sebuah file CSV yang telah dihasilkan aplikasi atau program lain. Di Python, hasil pembacaan setiap baris pada file CSV akan dikonversi menjadi list Python.Berikut adalah contoh kode untuk membaca file CSV dengan kasus yang sangat sederhana, coba ketik kode di bawah ini pada Code"
   ],
   "metadata": {}
  },
  {
   "cell_type": "code",
   "execution_count": null,
   "source": [
    "import requests\r\n",
    "from contextlib import closing\r\n",
    "import csv\r\n",
    "\r\n",
    "# tentukan lokasi file, nama file, dan inisialisasi csv\r\n",
    "url = 'https://storage.googleapis.com/dqlab-dataset/penduduk_gender_head.csv'\r\n",
    "\r\n",
    "# baca file csv secara streaming \r\n",
    "with closing(requests.get(url, stream=True)) as r:\r\n",
    "    f = (line.decode('utf-8') for line in r.iter_lines())\r\n",
    "\r\n",
    "    reader = csv.reader(f, delimiter=',')\r\n",
    "\r\n",
    "    # membaca baris per baris\r\n",
    "    for row in reader:\r\n",
    "        print(row)"
   ],
   "outputs": [],
   "metadata": {}
  },
  {
   "cell_type": "markdown",
   "source": [
    "Jika kamu ingin membaca file csv yang tersimpan di direktori yang sama dengan direktori program python kamu, maka kode berikut dapat kamu gunakan (misalnya di local computer kamu): "
   ],
   "metadata": {}
  },
  {
   "cell_type": "code",
   "execution_count": null,
   "source": [
    "import csv\r\n",
    "\r\n",
    "# tentukan lokasi file, nama file, dan inisialisasi csv\r\n",
    "f = open('https://storage.googleapis.com/dqlab-dataset/penduduk_gender_head.csv', 'r')\r\n",
    "reader = csv.reader(f)\r\n",
    "\r\n",
    "# membaca baris per baris\r\n",
    "for row in reader:\r\n",
    "     print (row)\r\n",
    "\r\n",
    "# menutup file csv\r\n",
    "f.close()"
   ],
   "outputs": [],
   "metadata": {}
  },
  {
   "cell_type": "markdown",
   "source": [
    "Membaca file CSV dengan menggunakan PANDAS\r\n",
    "Bagi yang belum familiar, PANDAS merupakan salah satu library yang sangat sering digunakan untuk aplikasi dan implementasi data science baik untuk data manipulation, data pre-processing, atau data wrangling. Pada sesi kali ini, kita akan menggunakan PANDAS untuk membaca file dari csv."
   ],
   "metadata": {}
  },
  {
   "cell_type": "code",
   "execution_count": null,
   "source": [
    "import pandas as pd\r\n",
    "pd.set_option(\"display.max_columns\",50)\r\n",
    "\r\n",
    "table = pd.read_csv(\"https://storage.googleapis.com/dqlab-dataset/penduduk_gender_head.csv\")\r\n",
    "table.head()\r\n",
    "print(table)"
   ],
   "outputs": [],
   "metadata": {}
  }
 ],
 "metadata": {
  "orig_nbformat": 4,
  "language_info": {
   "name": "python",
   "version": "3.9.2",
   "mimetype": "text/x-python",
   "codemirror_mode": {
    "name": "ipython",
    "version": 3
   },
   "pygments_lexer": "ipython3",
   "nbconvert_exporter": "python",
   "file_extension": ".py"
  },
  "kernelspec": {
   "name": "python3",
   "display_name": "Python 3.9.2 64-bit"
  },
  "interpreter": {
   "hash": "f7ced08cb358e78f4289484db4960958d7e897b801862ccf91356fd0329ea57e"
  }
 },
 "nbformat": 4,
 "nbformat_minor": 2
}