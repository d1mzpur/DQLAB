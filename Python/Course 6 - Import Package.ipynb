{
 "cells": [
  {
   "cell_type": "markdown",
   "source": [
    "Pendahuluan\r\n",
    "Modul merupakan objek python yang telah tersedia dari pengembangnya atau dapat kamu kembangkan sendiri. Dalam bahasa yang cukup sederhana, modul adalah kumpulan kode Python yang distruktur ke dalam beberapa fungsi, kelas, dan variabel. Python sendiri telahmemiliki banyak library dan module yang bisa diakses oleh pengguna secara free.\r\n",
    "\r\n",
    "Umumnya modul dikembangkan untuk tujuan umum yang luas penerapannya seperti:\r\n",
    "\r\n",
    "1. untuk pengolah data numerik seperti array 1D, 2D, 3D atau hingga nD dengan contohnya adalah numpy\r\n",
    "2. untuk komputasi saintifik yang berbasis metode numerik dan statistik dengan contohnya adalah scipy dan statsmodel\r\n",
    "3. untuk pengolah dan analisis data seperti Microsoft Excel atau Google Spreadsheets dengan contohnya adalah pandas, pypolar, dan modin\r\n",
    "4. untuk visualisasi data dengan contohnya yaitu matplotlib, seaborn, plotnine, altair, mayavi, bokeh, plotly, dll.  \r\n",
    "5. untuk pembelajaran mesin dengan contohnya yaitu scikit-learn, xgboost, lightgbm, catboost, pycaret, dll\r\n",
    "6. untuk deep learning dengan contohnya adalah keras, tensorflow, pytorch, cafe, dll\r\n",
    "\r\n",
    "Tentunya masih banyak lagi jika disebutkan. Library atau modul-modul yang telah disebutkan merupakan library yang umum digunakan oleh data scientist."
   ],
   "metadata": {}
  },
  {
   "cell_type": "markdown",
   "source": [
    "Import Package dan Menggunakan modul\r\n",
    "Pada sesi praktik ini, kita akan menggunakan modul math yang merupakan module standar untuk berbagai fungsi matematika. Panggil terlebih dahulu modul ini seperti yang ditunjukkan berikut ini:"
   ],
   "metadata": {}
  },
  {
   "cell_type": "code",
   "execution_count": null,
   "source": [
    "import math"
   ],
   "outputs": [],
   "metadata": {}
  },
  {
   "cell_type": "markdown",
   "source": [
    "Secara umum, module memiliki banyak fungsi. Cara pemrogram untuk mengakses fungsi-fungsi yang tersedia pada suatu modul juga berbeda-beda. Untuk saat ini, perhatikan kode berikut dan kemudian ketikkan kode di bawah ini di Code Editor:"
   ],
   "metadata": {}
  },
  {
   "cell_type": "code",
   "execution_count": null,
   "source": [
    "import math\r\n",
    "print(\"Nilai pi adalah:\", math.pi)  # math.pi merupakan sintak untuk memanggil fungsi pi"
   ],
   "outputs": [],
   "metadata": {}
  },
  {
   "cell_type": "markdown",
   "source": [
    "Import dengan Module Rename atau Alias\r\n",
    "Kita bisa mengimpor modul dengan mengganti namanya. Hal ini biasa dilakukan untuk menyingkat nama modul yang panjang."
   ],
   "metadata": {}
  },
  {
   "cell_type": "code",
   "execution_count": null,
   "source": [
    "import math as m                #menggunakan m sebagai module rename atau alias\r\n",
    "print(\"Nilai pi adalah:\", m.pi) #m.pi merupakan sintak untuk memanggil fungsi​"
   ],
   "outputs": [],
   "metadata": {}
  },
  {
   "cell_type": "markdown",
   "source": [
    "Import Sebagian Fungsi\r\n",
    "Sebuah module dapat memiliki puluhan atau ratusan fungsi. Terkadang kasus tertentu ketika memprogram, kita hanya membutuhkan satu, dua, atau beberapa buah fungsi saja. Untuk meminimalisir ketidakefisienan suatu program dalam me-load suatu module seperti yang telah dilakukan dalam format import module_name. Selanjutnya, kita dapat mengimport beberapa modul yang dibutuhkan saja menggunakan format from module_name import function_name"
   ],
   "metadata": {}
  },
  {
   "cell_type": "code",
   "execution_count": null,
   "source": [
    "from math import pi\r\n",
    "\r\n",
    "print(\"Nilai pi adalah\", pi)"
   ],
   "outputs": [],
   "metadata": {}
  },
  {
   "cell_type": "markdown",
   "source": [
    "Import Semua isi Moduls\r\n",
    "Namun, jika memang yang dibutuhkan banyak, semisal lebih dari 10 atau bahkan ratusan fungsi, bisa dilakukan import semuanya dengan menggunakan format from module_name import *. Tanda * disini menunjukan semua fungsi diimport ke dalam code."
   ],
   "metadata": {}
  },
  {
   "cell_type": "code",
   "execution_count": null,
   "source": [
    "from math import *\r\n",
    "\r\n",
    "print(\"Nilai e adalah:\", e)"
   ],
   "outputs": [],
   "metadata": {}
  }
 ],
 "metadata": {
  "orig_nbformat": 4,
  "language_info": {
   "name": "python",
   "version": "3.9.2",
   "mimetype": "text/x-python",
   "codemirror_mode": {
    "name": "ipython",
    "version": 3
   },
   "pygments_lexer": "ipython3",
   "nbconvert_exporter": "python",
   "file_extension": ".py"
  },
  "kernelspec": {
   "name": "python3",
   "display_name": "Python 3.9.2 64-bit"
  },
  "interpreter": {
   "hash": "f7ced08cb358e78f4289484db4960958d7e897b801862ccf91356fd0329ea57e"
  }
 },
 "nbformat": 4,
 "nbformat_minor": 2
}